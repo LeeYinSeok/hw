{
 "cells": [
  {
   "cell_type": "code",
   "execution_count": 65,
   "id": "cb78ee74",
   "metadata": {},
   "outputs": [
    {
     "name": "stdout",
     "output_type": "stream",
     "text": [
      "['bouffant', 'pixie', 'dreadlocks', 'crew', 'bowl', 'bob', 'mohawk', 'flattop']\n",
      "Average price is 31.875000\n",
      "[25, 20, 35, 15, 15, 30, 45, 30]\n",
      "Average daily revenue is %d  155.0\n",
      "['bouffant', 'pixie', 'crew', 'bowl']\n"
     ]
    }
   ],
   "source": [
    "#hairstyles: Carly's Clippers에서 제공되는 컷의 이름입니다.\n",
    "hairstyles = [\"bouffant\", \"pixie\", \"dreadlocks\", \"crew\", \"bowl\", \"bob\", \"mohawk\", \"flattop\"]\n",
    "#prices: hairstyles목록 에 있는 각 헤어스타일의 가격입니다 .\n",
    "prices = [30, 25, 40, 20, 20, 35, 50, 35]\n",
    "#last_week: 지난주 헤어스타일별 구매 건수.\n",
    "last_week = [2, 3, 5, 8, 4, 4, 6, 2]\n",
    "print(hairstyles)\n",
    "#전체 가격\n",
    "total_price = 0\n",
    "for i in range(len(prices)): \n",
    "    total_price = total_price + prices[i]\n",
    "#평균가격\n",
    "average_price = total_price / len(prices)\n",
    "print(\"Average price is %f\" %average_price)\n",
    "new_prices=[prices [i]-5 for i in range(len(prices ))]\n",
    "print(new_prices)\n",
    "total_revenue = 0\n",
    "for i in range(len(hairstyles)):\n",
    "    for j in range(last_week[i]):\n",
    "        total_revenue = total_revenue + prices[i]\n",
    "print(\"Average daily revenue is %d \", total_revenue / 7)\n",
    "cut_under_30 = []\n",
    "for i in range(len(new_prices)):\n",
    "    if new_prices[i] < 30:\n",
    "        cut_under_30.append(hairstyles[i])\n",
    "print(cut_under_30)"
   ]
  },
  {
   "cell_type": "code",
   "execution_count": null,
   "id": "cfcef21a",
   "metadata": {},
   "outputs": [],
   "source": []
  }
 ],
 "metadata": {
  "kernelspec": {
   "display_name": "Python 3",
   "language": "python",
   "name": "python3"
  },
  "language_info": {
   "codemirror_mode": {
    "name": "ipython",
    "version": 3
   },
   "file_extension": ".py",
   "mimetype": "text/x-python",
   "name": "python",
   "nbconvert_exporter": "python",
   "pygments_lexer": "ipython3",
   "version": "3.8.8"
  }
 },
 "nbformat": 4,
 "nbformat_minor": 5
}
