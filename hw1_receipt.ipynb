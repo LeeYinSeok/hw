{
 "cells": [
  {
   "cell_type": "code",
   "execution_count": 8,
   "id": "54f9526f-b738-4fc8-96ac-eeb83371f75c",
   "metadata": {},
   "outputs": [
    {
     "name": "stdout",
     "output_type": "stream",
     "text": [
      "Customer One Items:\n",
      "Lovely Loveseat. Tufted polyester blend on wood. 32 inches high x 40 inches wide x 30 inches deep. Red or white.Luxurious Lamp. Glass and iron. 36 inches tall. Brown with cream shade.\n",
      "Customer One Total:\n",
      "333.09119999999996\n"
     ]
    }
   ],
   "source": [
    "#첫 번째 항목인 가게 이름을 딴 Lovely Loveseat를 추가\n",
    "lovely_loveseat_description = \"Lovely Loveseat. Tufted polyester blend on wood. 32 inches high x 40 inches wide x 30 inches deep. Red or white.\"\n",
    "\n",
    "#lovely_loveseat에 대한 가격을 생성\n",
    "lovely_loveseat_price = 254.00\n",
    "\n",
    "#stylish_settee_description만들고 문자열을 할당\n",
    "stylish_settee_description = \"Stylish Settee. Faux leather on birch. 29.50 inches high x 54.75 inches wide x 28 inches deep. Black.\"\n",
    "\n",
    "#Stylish Settee의 가격을 설정\n",
    "stylish_settee_price = 180.50\n",
    "\n",
    "#luxurious_lamp_description만들고 문자열을 할당\n",
    "luxurious_lamp_description = \"Luxurious Lamp. Glass and iron. 36 inches tall. Brown with cream shade.\"\n",
    "\n",
    "#luxurious_lamp의 가격을 설정\n",
    "luxurious_lamp_price = 52.15\n",
    "\n",
    "#판매세 변수 설정(8.8%)\n",
    "sales_tax = 0.088\n",
    "\n",
    "#첫 번째 고객 변수를 정의 및 아직 구매를 안했으므로 0 할당\n",
    "customer_one_total = 0\n",
    "\n",
    "#첫 번째 고객의 상품에 대한 설명 변수 정의 밋 아직 구매를 안했으므로 빈 문자열 할당\n",
    "customer_one_itemization = \"\"\n",
    "\n",
    "#고객이 Lovely Loveseat를 구매하기로 결정하였으므로 가격과 설명을 추가\n",
    "customer_one_total = customer_one_total+lovely_loveseat_price\n",
    "customer_one_itemization = customer_one_itemization+lovely_loveseat_description\n",
    "\n",
    "#고객이 luxurious_lamp도 구매하기로 결정하였으므로 가격과 설명을 추가\n",
    "customer_one_total = customer_one_total+luxurious_lamp_price\n",
    "customer_one_itemization = customer_one_itemization+luxurious_lamp_description\n",
    "\n",
    "#customer_one_total변수 설정\n",
    "customer_one_tax = customer_one_total * sales_tax\n",
    "\n",
    "#영수증 인쇄 시작\n",
    "print(\"Customer One Items:\")\n",
    "print(customer_one_itemization)\n",
    "print(\"Customer One Total:\")\n",
    "print(customer_one_total + customer_one_tax)"
   ]
  },
  {
   "cell_type": "code",
   "execution_count": null,
   "id": "76d54324-690c-41b7-ade3-fe6439034b8c",
   "metadata": {},
   "outputs": [],
   "source": []
  }
 ],
 "metadata": {
  "kernelspec": {
   "display_name": "Python 3",
   "language": "python",
   "name": "python3"
  },
  "language_info": {
   "codemirror_mode": {
    "name": "ipython",
    "version": 3
   },
   "file_extension": ".py",
   "mimetype": "text/x-python",
   "name": "python",
   "nbconvert_exporter": "python",
   "pygments_lexer": "ipython3",
   "version": "3.8.8"
  }
 },
 "nbformat": 4,
 "nbformat_minor": 5
}
