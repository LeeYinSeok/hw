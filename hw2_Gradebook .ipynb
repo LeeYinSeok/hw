{
 "cells": [
  {
   "cell_type": "code",
   "execution_count": 1,
   "id": "2a155497-a8b9-461f-8903-dc55a3749ee5",
   "metadata": {},
   "outputs": [
    {
     "name": "stdout",
     "output_type": "stream",
     "text": [
      "[['physics', 98], ['calculus', 97], ['poetry', 85], ['history', 88]]\n",
      "[['physics', 98], ['calculus', 97], ['poetry', 85], ['history', 88], ['computer science', 100], ['visual arts', 93]]\n",
      "[['physics', 98], ['calculus', 97], ['poetry', 'Pass'], ['history', 88], ['computer science', 100], ['visual arts', 98]]\n",
      "[['politics', 80], ['latin', 96], ['dance', 97], ['architecture', 65], ['physics', 98], ['calculus', 97], ['poetry', 'Pass'], ['history', 88], ['computer science', 100], ['visual arts', 98]]\n"
     ]
    }
   ],
   "source": [
    "#subjects리스트 생성 및 수강 중인 수업으로 채우기\n",
    "subjects = ['physics','calculus','poetry','history']\n",
    "#grades리스트 생성 및 점수 채우기\n",
    "grades = [98,97,85,88]\n",
    "#gradebook에 subjects 및 grades가 결합된 2차원 목록을 수동으로 할당\n",
    "gradebook = [[subjects[0], grades[0]], [subjects[1], grades[1]], [subjects[2], grades[2]], [subjects[3], grades[3]]]\n",
    "#gradebook인쇄\n",
    "print(gradebook)\n",
    "#.append()방법을 사용하여 [\"computer science\", 100] 추가\n",
    "gradebook.append([\"computer science\", 100])\n",
    "#.append()방법을 사용하여 [\"visual arts\", 93]추가\n",
    "gradebook.append([\"visual arts\", 93])\n",
    "#에상 인쇄\n",
    "print(gradebook)\n",
    "#강사가 점수를 잘못 매겼고 시각 예술 수업에 대해 추가로 5점을 보상\n",
    "gradebook[5][1] = gradebook[5][1]+5\n",
    "#시 수업 점수를 .remove를 사용하여 제거\n",
    "gradebook[2].remove(85)\n",
    "#.append()를 사용하여 \"Pass\"를 시 값에 추가\n",
    "gradebook[2].append(\"Pass\")\n",
    "#에상 인쇄\n",
    "print(gradebook)\n",
    "#지난 학기의 성적 추가\n",
    "last_semester_gradebook = [[\"politics\", 80], [\"latin\", 96], [\"dance\", 97], [\"architecture\", 65]]\n",
    "#full_gradebook변수를 추가 후 지난 학기와 이번 학기 결합\n",
    "full_gradebook = last_semester_gradebook + gradebook\n",
    "print(full_gradebook)"
   ]
  }
 ],
 "metadata": {
  "kernelspec": {
   "display_name": "Python 3",
   "language": "python",
   "name": "python3"
  },
  "language_info": {
   "codemirror_mode": {
    "name": "ipython",
    "version": 3
   },
   "file_extension": ".py",
   "mimetype": "text/x-python",
   "name": "python",
   "nbconvert_exporter": "python",
   "pygments_lexer": "ipython3",
   "version": "3.8.8"
  }
 },
 "nbformat": 4,
 "nbformat_minor": 5
}
