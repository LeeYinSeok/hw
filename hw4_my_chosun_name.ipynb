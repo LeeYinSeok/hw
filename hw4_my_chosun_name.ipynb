{
 "cells": [
  {
   "cell_type": "code",
   "execution_count": 10,
   "id": "30d19948-2c95-46fe-97e0-0f26f06059ce",
   "metadata": {},
   "outputs": [
    {
     "name": "stdout",
     "output_type": "stream",
     "text": [
      "당신의 조선시대 이름은 이방석 입니다.\n"
     ]
    }
   ],
   "source": [
    "month = ['쌍','쇠','복', '돌', '팽', '육', '쌍', '개', '칠', '갑', '삼', '방']\n",
    "day = ['봉', '구', '욕', '포', '똥', '삼', '식', '석', '놈', '님', '년', '돌', '단', '득', '방', '질', '장', '걸', '래', '룡', '동', '순', '자', '박', '창', '언', '것', '포', '만', '단', '국']\n",
    "def get_my_chosun_name(a, b, c):\n",
    "    print(\"당신의 조선시대 이름은 %s%s%s 입니다.\" %(a, month[b-1], day[c-1]))\n",
    "get_my_chosun_name('이', 12, 8)"
   ]
  },
  {
   "cell_type": "code",
   "execution_count": null,
   "id": "568d555b-833e-4783-9ae4-2a256396f14e",
   "metadata": {},
   "outputs": [],
   "source": []
  }
 ],
 "metadata": {
  "kernelspec": {
   "display_name": "Python 3",
   "language": "python",
   "name": "python3"
  },
  "language_info": {
   "codemirror_mode": {
    "name": "ipython",
    "version": 3
   },
   "file_extension": ".py",
   "mimetype": "text/x-python",
   "name": "python",
   "nbconvert_exporter": "python",
   "pygments_lexer": "ipython3",
   "version": "3.8.8"
  }
 },
 "nbformat": 4,
 "nbformat_minor": 5
}
